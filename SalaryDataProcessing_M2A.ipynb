{
 "cells": [
  {
   "cell_type": "code",
   "id": "initial_id",
   "metadata": {
    "collapsed": true,
    "ExecuteTime": {
     "end_time": "2024-08-14T07:31:21.212919Z",
     "start_time": "2024-08-14T07:31:21.204268Z"
    }
   },
   "source": "import pandas as pd",
   "outputs": [],
   "execution_count": 11
  },
  {
   "metadata": {
    "ExecuteTime": {
     "end_time": "2024-08-14T07:31:23.821175Z",
     "start_time": "2024-08-14T07:31:21.423008Z"
    }
   },
   "cell_type": "code",
   "source": [
    "#1. Import the Provided Salary Data\n",
    "\n",
    "data_url = 'C:\\\\Users\\\\User\\\\Downloads\\\\Total.csv\\\\Total.csv'\n",
    "salary_data = pd.read_csv(data_url, low_memory=False)"
   ],
   "id": "1edb3a38dfcca48d",
   "outputs": [],
   "execution_count": 12
  },
  {
   "metadata": {
    "ExecuteTime": {
     "end_time": "2024-08-14T07:31:23.899992Z",
     "start_time": "2024-08-14T07:31:23.858678Z"
    }
   },
   "cell_type": "code",
   "source": "salary_data.head(10)",
   "id": "951c64b00715f3c8",
   "outputs": [
    {
     "data": {
      "text/plain": [
       "         EmployeeName                                        JobTitle  \\\n",
       "0      NATHANIEL FORD  GENERAL MANAGER-METROPOLITAN TRANSIT AUTHORITY   \n",
       "1        GARY JIMENEZ                 CAPTAIN III (POLICE DEPARTMENT)   \n",
       "2      ALBERT PARDINI                 CAPTAIN III (POLICE DEPARTMENT)   \n",
       "3   CHRISTOPHER CHONG            WIRE ROPE CABLE MAINTENANCE MECHANIC   \n",
       "4     PATRICK GARDNER    DEPUTY CHIEF OF DEPARTMENT,(FIRE DEPARTMENT)   \n",
       "5      DAVID SULLIVAN                       ASSISTANT DEPUTY CHIEF II   \n",
       "6           ALSON LEE              BATTALION CHIEF, (FIRE DEPARTMENT)   \n",
       "7       DAVID KUSHNER                  DEPUTY DIRECTOR OF INVESTMENTS   \n",
       "8      MICHAEL MORRIS              BATTALION CHIEF, (FIRE DEPARTMENT)   \n",
       "9  JOANNE HAYES-WHITE          CHIEF OF DEPARTMENT, (FIRE DEPARTMENT)   \n",
       "\n",
       "     BasePay OvertimePay   OtherPay      Benefits   TotalPay  \\\n",
       "0  167411.18        0.00  400184.25  Not Provided  567595.43   \n",
       "1  155966.02   245131.88  137811.38  Not Provided  538909.28   \n",
       "2  212739.13   106088.18   16452.60  Not Provided  335279.91   \n",
       "3   77916.00    56120.71  198306.90  Not Provided  332343.61   \n",
       "4  134401.60     9737.00  182234.59  Not Provided  326373.19   \n",
       "5  118602.00     8601.00  189082.74  Not Provided  316285.74   \n",
       "6   92492.01    89062.90  134426.14  Not Provided  315981.05   \n",
       "7  256576.96        0.00   51322.50  Not Provided  307899.46   \n",
       "8  176932.64    86362.68   40132.23  Not Provided  303427.55   \n",
       "9  285262.00        0.00   17115.73  Not Provided  302377.73   \n",
       "\n",
       "   TotalPayBenefits  Year  \n",
       "0         567595.43  2011  \n",
       "1         538909.28  2011  \n",
       "2         335279.91  2011  \n",
       "3         332343.61  2011  \n",
       "4         326373.19  2011  \n",
       "5         316285.74  2011  \n",
       "6         315981.05  2011  \n",
       "7         307899.46  2011  \n",
       "8         303427.55  2011  \n",
       "9         302377.73  2011  "
      ],
      "text/html": [
       "<div>\n",
       "<style scoped>\n",
       "    .dataframe tbody tr th:only-of-type {\n",
       "        vertical-align: middle;\n",
       "    }\n",
       "\n",
       "    .dataframe tbody tr th {\n",
       "        vertical-align: top;\n",
       "    }\n",
       "\n",
       "    .dataframe thead th {\n",
       "        text-align: right;\n",
       "    }\n",
       "</style>\n",
       "<table border=\"1\" class=\"dataframe\">\n",
       "  <thead>\n",
       "    <tr style=\"text-align: right;\">\n",
       "      <th></th>\n",
       "      <th>EmployeeName</th>\n",
       "      <th>JobTitle</th>\n",
       "      <th>BasePay</th>\n",
       "      <th>OvertimePay</th>\n",
       "      <th>OtherPay</th>\n",
       "      <th>Benefits</th>\n",
       "      <th>TotalPay</th>\n",
       "      <th>TotalPayBenefits</th>\n",
       "      <th>Year</th>\n",
       "    </tr>\n",
       "  </thead>\n",
       "  <tbody>\n",
       "    <tr>\n",
       "      <th>0</th>\n",
       "      <td>NATHANIEL FORD</td>\n",
       "      <td>GENERAL MANAGER-METROPOLITAN TRANSIT AUTHORITY</td>\n",
       "      <td>167411.18</td>\n",
       "      <td>0.00</td>\n",
       "      <td>400184.25</td>\n",
       "      <td>Not Provided</td>\n",
       "      <td>567595.43</td>\n",
       "      <td>567595.43</td>\n",
       "      <td>2011</td>\n",
       "    </tr>\n",
       "    <tr>\n",
       "      <th>1</th>\n",
       "      <td>GARY JIMENEZ</td>\n",
       "      <td>CAPTAIN III (POLICE DEPARTMENT)</td>\n",
       "      <td>155966.02</td>\n",
       "      <td>245131.88</td>\n",
       "      <td>137811.38</td>\n",
       "      <td>Not Provided</td>\n",
       "      <td>538909.28</td>\n",
       "      <td>538909.28</td>\n",
       "      <td>2011</td>\n",
       "    </tr>\n",
       "    <tr>\n",
       "      <th>2</th>\n",
       "      <td>ALBERT PARDINI</td>\n",
       "      <td>CAPTAIN III (POLICE DEPARTMENT)</td>\n",
       "      <td>212739.13</td>\n",
       "      <td>106088.18</td>\n",
       "      <td>16452.60</td>\n",
       "      <td>Not Provided</td>\n",
       "      <td>335279.91</td>\n",
       "      <td>335279.91</td>\n",
       "      <td>2011</td>\n",
       "    </tr>\n",
       "    <tr>\n",
       "      <th>3</th>\n",
       "      <td>CHRISTOPHER CHONG</td>\n",
       "      <td>WIRE ROPE CABLE MAINTENANCE MECHANIC</td>\n",
       "      <td>77916.00</td>\n",
       "      <td>56120.71</td>\n",
       "      <td>198306.90</td>\n",
       "      <td>Not Provided</td>\n",
       "      <td>332343.61</td>\n",
       "      <td>332343.61</td>\n",
       "      <td>2011</td>\n",
       "    </tr>\n",
       "    <tr>\n",
       "      <th>4</th>\n",
       "      <td>PATRICK GARDNER</td>\n",
       "      <td>DEPUTY CHIEF OF DEPARTMENT,(FIRE DEPARTMENT)</td>\n",
       "      <td>134401.60</td>\n",
       "      <td>9737.00</td>\n",
       "      <td>182234.59</td>\n",
       "      <td>Not Provided</td>\n",
       "      <td>326373.19</td>\n",
       "      <td>326373.19</td>\n",
       "      <td>2011</td>\n",
       "    </tr>\n",
       "    <tr>\n",
       "      <th>5</th>\n",
       "      <td>DAVID SULLIVAN</td>\n",
       "      <td>ASSISTANT DEPUTY CHIEF II</td>\n",
       "      <td>118602.00</td>\n",
       "      <td>8601.00</td>\n",
       "      <td>189082.74</td>\n",
       "      <td>Not Provided</td>\n",
       "      <td>316285.74</td>\n",
       "      <td>316285.74</td>\n",
       "      <td>2011</td>\n",
       "    </tr>\n",
       "    <tr>\n",
       "      <th>6</th>\n",
       "      <td>ALSON LEE</td>\n",
       "      <td>BATTALION CHIEF, (FIRE DEPARTMENT)</td>\n",
       "      <td>92492.01</td>\n",
       "      <td>89062.90</td>\n",
       "      <td>134426.14</td>\n",
       "      <td>Not Provided</td>\n",
       "      <td>315981.05</td>\n",
       "      <td>315981.05</td>\n",
       "      <td>2011</td>\n",
       "    </tr>\n",
       "    <tr>\n",
       "      <th>7</th>\n",
       "      <td>DAVID KUSHNER</td>\n",
       "      <td>DEPUTY DIRECTOR OF INVESTMENTS</td>\n",
       "      <td>256576.96</td>\n",
       "      <td>0.00</td>\n",
       "      <td>51322.50</td>\n",
       "      <td>Not Provided</td>\n",
       "      <td>307899.46</td>\n",
       "      <td>307899.46</td>\n",
       "      <td>2011</td>\n",
       "    </tr>\n",
       "    <tr>\n",
       "      <th>8</th>\n",
       "      <td>MICHAEL MORRIS</td>\n",
       "      <td>BATTALION CHIEF, (FIRE DEPARTMENT)</td>\n",
       "      <td>176932.64</td>\n",
       "      <td>86362.68</td>\n",
       "      <td>40132.23</td>\n",
       "      <td>Not Provided</td>\n",
       "      <td>303427.55</td>\n",
       "      <td>303427.55</td>\n",
       "      <td>2011</td>\n",
       "    </tr>\n",
       "    <tr>\n",
       "      <th>9</th>\n",
       "      <td>JOANNE HAYES-WHITE</td>\n",
       "      <td>CHIEF OF DEPARTMENT, (FIRE DEPARTMENT)</td>\n",
       "      <td>285262.00</td>\n",
       "      <td>0.00</td>\n",
       "      <td>17115.73</td>\n",
       "      <td>Not Provided</td>\n",
       "      <td>302377.73</td>\n",
       "      <td>302377.73</td>\n",
       "      <td>2011</td>\n",
       "    </tr>\n",
       "  </tbody>\n",
       "</table>\n",
       "</div>"
      ]
     },
     "execution_count": 13,
     "metadata": {},
     "output_type": "execute_result"
    }
   ],
   "execution_count": 13
  },
  {
   "metadata": {
    "ExecuteTime": {
     "end_time": "2024-08-14T07:31:24.198387Z",
     "start_time": "2024-08-14T07:31:24.161873Z"
    }
   },
   "cell_type": "code",
   "source": [
    "#Step 2: Develop a Python Function to Get Employee Details\n",
    "\n",
    "def get_employee_details(name, data):\n",
    "    try:\n",
    "        employee = data[data['EmployeeName'].str.upper() == name.upper()]\n",
    "        if employee.empty:\n",
    "            return f\"No employee found with the name: {name}\"\n",
    "        return employee.to_dict(orient='records')[0]\n",
    "    except Exception as e:\n",
    "        return str(e)"
   ],
   "id": "9d4f62761c655a16",
   "outputs": [],
   "execution_count": 14
  },
  {
   "metadata": {
    "ExecuteTime": {
     "end_time": "2024-08-14T07:31:24.469160Z",
     "start_time": "2024-08-14T07:31:24.443490Z"
    }
   },
   "cell_type": "code",
   "source": [
    "#Step 3: Process the Salary Data Using a Dictionary\n",
    "\n",
    "def process_data_to_dict(data):\n",
    "    try:\n",
    "        employee_dict = data.set_index('EmployeeName').T.to_dict()\n",
    "        return employee_dict\n",
    "    except Exception as e:\n",
    "        return str(e)\n"
   ],
   "id": "de3d5991254ebbf5",
   "outputs": [],
   "execution_count": 15
  },
  {
   "metadata": {
    "ExecuteTime": {
     "end_time": "2024-08-14T07:31:24.585210Z",
     "start_time": "2024-08-14T07:31:24.557721Z"
    }
   },
   "cell_type": "code",
   "source": [
    "# We have already implemented basic error handling in the previous functions.\n",
    "# Error handling in the data processing function and the function for exporting employee details to a CSV file will also be done.\n",
    "#5. Export Employee Details:\n",
    "\n",
    "import os\n",
    "import csv\n",
    "import zipfile\n",
    "\n",
    "\n",
    "def export_employee_to_csv(name, data):\n",
    "    try:\n",
    "        details = get_employee_details(name, data)\n",
    "        if isinstance(details, str):\n",
    "            return details\n",
    "\n",
    "        # Create directory if it doesn't exist\n",
    "        dir_name = \"Employee_Profile\"\n",
    "        if not os.path.exists(dir_name):\n",
    "            os.makedirs(dir_name)\n",
    "\n",
    "        # Write to CSV file\n",
    "        csv_file_path = os.path.join(dir_name, f\"{name.replace(' ', '_')}.csv\")\n",
    "        with open(csv_file_path, 'w', newline='') as csvfile:\n",
    "            writer = csv.DictWriter(csvfile, fieldnames=details.keys())\n",
    "            writer.writeheader()\n",
    "            writer.writerow(details)\n",
    "\n",
    "        # Zip the directory\n",
    "        zip_file_path = \"C:\\\\Users\\\\User\\\\Downloads\\\\Employee_Profile.zip\"\n",
    "        with zipfile.ZipFile(zip_file_path, 'w') as zipf:\n",
    "            zipf.write(csv_file_path, os.path.basename(csv_file_path))\n",
    "\n",
    "        return f\"Employee details exported and zipped at {zip_file_path}\"\n",
    "    except Exception as e:\n",
    "        return str(e)\n"
   ],
   "id": "dd608bae50c75185",
   "outputs": [],
   "execution_count": 16
  },
  {
   "metadata": {
    "ExecuteTime": {
     "end_time": "2024-08-14T07:31:24.967879Z",
     "start_time": "2024-08-14T07:31:24.667413Z"
    }
   },
   "cell_type": "code",
   "source": [
    "# Export an employee's details to a CSV file and save it within a zipped folder named \"Employee Profile.\"\n",
    "export_message = export_employee_to_csv(\"DAVID SULLIVAN\", salary_data)\n",
    "export_message\n"
   ],
   "id": "ee84ca62636ce817",
   "outputs": [
    {
     "data": {
      "text/plain": [
       "'Employee details exported and zipped at C:\\\\Users\\\\User\\\\Downloads\\\\Employee_Profile.zip'"
      ]
     },
     "execution_count": 17,
     "metadata": {},
     "output_type": "execute_result"
    }
   ],
   "execution_count": 17
  }
 ],
 "metadata": {
  "kernelspec": {
   "display_name": "Python 3",
   "language": "python",
   "name": "python3"
  },
  "language_info": {
   "codemirror_mode": {
    "name": "ipython",
    "version": 2
   },
   "file_extension": ".py",
   "mimetype": "text/x-python",
   "name": "python",
   "nbconvert_exporter": "python",
   "pygments_lexer": "ipython2",
   "version": "2.7.6"
  }
 },
 "nbformat": 4,
 "nbformat_minor": 5
}
